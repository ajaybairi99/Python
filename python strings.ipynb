{
 "cells": [
  {
   "cell_type": "code",
   "execution_count": 1,
   "id": "b82b2ed1",
   "metadata": {},
   "outputs": [
    {
     "name": "stdout",
     "output_type": "stream",
     "text": [
      "<class 'str'>\n",
      "one of python data type\n"
     ]
    }
   ],
   "source": [
    "string = 'one of python data type'\n",
    "print(type(string))\n",
    "print(string)"
   ]
  },
  {
   "cell_type": "code",
   "execution_count": 5,
   "id": "c58d2901",
   "metadata": {},
   "outputs": [
    {
     "name": "stdout",
     "output_type": "stream",
     "text": [
      "yes, life is present\n"
     ]
    }
   ],
   "source": [
    "#strings\n",
    "a = 'life is beautiful'\n",
    "if 'life' in a:\n",
    "    print('yes, life is present')"
   ]
  },
  {
   "cell_type": "code",
   "execution_count": 18,
   "id": "171c81ae",
   "metadata": {},
   "outputs": [
    {
     "name": "stdout",
     "output_type": "stream",
     "text": [
      "life is\n",
      "life \n",
      "is short, enjoy every moment in life\n",
      " moment i\n"
     ]
    }
   ],
   "source": [
    "#string slicing\n",
    "x = 'life is short, enjoy every moment in life'\n",
    "print(x[0:7]) #Get the characters from position 0 to position 7\n",
    "print(x[:5]) #Get the characters from the start to position 5\n",
    "print(x[5:]) #Get the characters from the start to position 5 toend\n",
    "print(x[-15:-6]) #negative indexing"
   ]
  },
  {
   "cell_type": "code",
   "execution_count": 32,
   "id": "f48a9198",
   "metadata": {},
   "outputs": [
    {
     "name": "stdout",
     "output_type": "stream",
     "text": [
      " THE PURPOSE OF OUR LIVES IS TO BE HAPPY \n",
      " the purpose of our lives is to be happy \n",
      "The purpose of our lives is to be happy\n",
      " The sursose of our lives is to be hassy \n"
     ]
    }
   ],
   "source": [
    "#modify strings\n",
    "y =' The purpose of our lives is to be happy '\n",
    "z=(y.upper()) #returns the string in upper case\n",
    "print(z)\n",
    "print(y.lower()) #returns the string in lower case\n",
    "print(y.strip()) # remove the white spaces beginning and at the end\n",
    "print(y.replace('p','s')) #replace the string with another string"
   ]
  },
  {
   "cell_type": "code",
   "execution_count": 35,
   "id": "162833ac",
   "metadata": {},
   "outputs": [
    {
     "name": "stdout",
     "output_type": "stream",
     "text": [
      "python is fantastic\n",
      "python  ,is fantastic\n"
     ]
    }
   ],
   "source": [
    "#string concantenation\n",
    "a = 'python '\n",
    "b = 'is fantastic'\n",
    "c= a+b\n",
    "print(c)\n",
    "d = a + \" ,\" + b #To add a , between them, add a \" , \"\n",
    "print(d)"
   ]
  },
  {
   "cell_type": "code",
   "execution_count": 39,
   "id": "8aabfef5",
   "metadata": {},
   "outputs": [
    {
     "name": "stdout",
     "output_type": "stream",
     "text": [
      "i am ajay , my age is 21\n",
      "i want 4 fresh mangos for $50\n"
     ]
    }
   ],
   "source": [
    "#string format\n",
    "age = 21\n",
    "a= 'i am ajay , my age is {}'#insert numbers into strings\n",
    "print(a.format(age))\n",
    "\n",
    "quantity = 4\n",
    "item = 'mangos'\n",
    "price = 50\n",
    "a = 'i want {} fresh {} for ${}'\n",
    "print(a.format(quantity,item,price))"
   ]
  },
  {
   "cell_type": "code",
   "execution_count": 70,
   "id": "a63a0bbd",
   "metadata": {},
   "outputs": [
    {
     "name": "stdout",
     "output_type": "stream",
     "text": [
      "i dont believe in taking right decisions , i take decisions and then make them right\n",
      "I dont believe in taking right decisions , i take decisions and then make them right\n",
      "i dont believe in taking right decisions , i take decisions and then make them right\n",
      "11\n",
      "True\n",
      "8\n",
      "I Dont Believe In Taking Right Decisions , I Take Decisions And Then Make Them Right\n",
      "I DONT BELIEVE IN TAKING RIGHT DECISIONS , I TAKE DECISIONS AND THEN MAKE THEM RIGHT\n",
      "Ratan Tata dont belRatan Tataeve Ratan Tatan takRatan Tatang rRatan Tataght decRatan TatasRatan Tataons , Ratan Tata take decRatan TatasRatan Tataons and then make them rRatan Tataght\n",
      "True\n",
      "l\n"
     ]
    }
   ],
   "source": [
    "#string methods #some string methods\n",
    "tata = 'i dont believe in taking right decisions , i take decisions and then make them right'\n",
    "print(tata.casefold()) #Converts string into lower case\n",
    "print(tata.capitalize()) #Converts the first character to upper case\n",
    "print(tata.center(5)) #Returns a centered string\n",
    "print(tata.count('i')) #Returns the number of times a specified value occurs in a string\n",
    "print(tata.endswith('right')) #Returns true if the string ends with the specified value\n",
    "print(tata.find('e')) #Returns true if the string ends with the specified value\n",
    "print(tata.title()) #Converts the first character of each word to upper case\n",
    "print(tata.upper()) #Converts a string into upper case\n",
    "print(tata.replace('i','Ratan Tata')) #Returns a string where a specified value is replaced with a specified value\n",
    "print(tata.startswith('i')) #Returns true if the string starts with the specified value\n",
    "print (tata.join('l')) #Joins the elements of an iterable to the end of the string"
   ]
  },
  {
   "cell_type": "code",
   "execution_count": null,
   "id": "e123306b",
   "metadata": {},
   "outputs": [],
   "source": []
  },
  {
   "cell_type": "code",
   "execution_count": null,
   "id": "04cd98cc",
   "metadata": {},
   "outputs": [],
   "source": []
  }
 ],
 "metadata": {
  "kernelspec": {
   "display_name": "Python 3",
   "language": "python",
   "name": "python3"
  },
  "language_info": {
   "codemirror_mode": {
    "name": "ipython",
    "version": 3
   },
   "file_extension": ".py",
   "mimetype": "text/x-python",
   "name": "python",
   "nbconvert_exporter": "python",
   "pygments_lexer": "ipython3",
   "version": "3.8.8"
  }
 },
 "nbformat": 4,
 "nbformat_minor": 5
}
