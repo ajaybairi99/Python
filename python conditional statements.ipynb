{
 "cells": [
  {
   "cell_type": "markdown",
   "id": "d7f9ecda",
   "metadata": {},
   "source": [
    "## Name : Ajay Bairi\n",
    "## Task : Python conditional statements"
   ]
  },
  {
   "cell_type": "markdown",
   "id": "105dc4f9",
   "metadata": {},
   "source": [
    "### Python supports the usual logical conditions from mathematics:\n",
    "#### Equals: a == b\n",
    "#### Not Equals: a != b\n",
    "#### Less than: a < b\n",
    "#### Less than or equal to: a <= b\n",
    "#### Greater than: a > b\n",
    "#### Greater than or equal to: a >= b\n",
    "#### These conditions can be used in several ways, most commonly in \"if statements\" and loops.\n",
    "#### If : An \"if statement\" is written by using the if keyword.\n",
    "#### Elif : The elif keyword is pythons way of saying \"if the previous conditions were not true, then try this condition\".\n",
    "#### Else : The else keyword catches anything which isn't caught by the preceding conditions."
   ]
  },
  {
   "cell_type": "code",
   "execution_count": 1,
   "id": "c1b5e6ae",
   "metadata": {},
   "outputs": [
    {
     "name": "stdout",
     "output_type": "stream",
     "text": [
      "yes, a is less than b\n"
     ]
    }
   ],
   "source": [
    "a = 20 #if statement\n",
    "b = 30\n",
    "if a < b:\n",
    "    print('yes, a is less than b')"
   ]
  },
  {
   "cell_type": "code",
   "execution_count": 2,
   "id": "ebcce1f9",
   "metadata": {},
   "outputs": [
    {
     "name": "stdout",
     "output_type": "stream",
     "text": [
      "a is less than b\n"
     ]
    }
   ],
   "source": [
    "a = 20  #if and elif statement\n",
    "b = 30\n",
    "if a > b:\n",
    "    print('a is greater than b')\n",
    "elif a < b:\n",
    "    print('a is less than b')"
   ]
  },
  {
   "cell_type": "code",
   "execution_count": 4,
   "id": "9301834c",
   "metadata": {},
   "outputs": [
    {
     "name": "stdout",
     "output_type": "stream",
     "text": [
      "a is less than b\n"
     ]
    }
   ],
   "source": [
    "a = 20   #if , elif and else statements\n",
    "b = 30\n",
    "if a > b:\n",
    "    print('a is greater than b')\n",
    "elif a==b :\n",
    "    print('a is equal to b')\n",
    "else :\n",
    "    print('a is less than b')"
   ]
  },
  {
   "cell_type": "code",
   "execution_count": 5,
   "id": "bbb8b21e",
   "metadata": {},
   "outputs": [
    {
     "name": "stdout",
     "output_type": "stream",
     "text": [
      "a is less than b\n"
     ]
    }
   ],
   "source": [
    "a = 50  #short hand if - If you have only one statement to execute, you can put it on the same line as the if statement.\n",
    "b = 60\n",
    "if a < b: print('a is less than b')"
   ]
  },
  {
   "cell_type": "code",
   "execution_count": 7,
   "id": "8f12a7d5",
   "metadata": {},
   "outputs": [
    {
     "name": "stdout",
     "output_type": "stream",
     "text": [
      "b\n"
     ]
    }
   ],
   "source": [
    "a = 60  #short hand if_else\n",
    "b = 20\n",
    "print('a') if a<b  else print('b')"
   ]
  },
  {
   "cell_type": "code",
   "execution_count": 9,
   "id": "d05b59bc",
   "metadata": {},
   "outputs": [
    {
     "name": "stdout",
     "output_type": "stream",
     "text": [
      "b\n"
     ]
    }
   ],
   "source": [
    "a = 450\n",
    "b = 250\n",
    "print('a') if a<b else print('b')"
   ]
  },
  {
   "cell_type": "code",
   "execution_count": 10,
   "id": "0cac1e8e",
   "metadata": {},
   "outputs": [
    {
     "name": "stdout",
     "output_type": "stream",
     "text": [
      "both conditions are true\n"
     ]
    }
   ],
   "source": [
    "a = 500   # and logical operator\n",
    "b = 600\n",
    "c = 700\n",
    "if a<b and b<c:\n",
    "    print('both conditions are true')"
   ]
  },
  {
   "cell_type": "code",
   "execution_count": 11,
   "id": "9013ecfa",
   "metadata": {},
   "outputs": [
    {
     "name": "stdout",
     "output_type": "stream",
     "text": [
      "only one condition is true\n"
     ]
    }
   ],
   "source": [
    "a = 500   # or logical operator\n",
    "b = 600\n",
    "c = 700\n",
    "if a==b or b<c:\n",
    "    print('only one condition is true')"
   ]
  },
  {
   "cell_type": "code",
   "execution_count": 13,
   "id": "5d14f60e",
   "metadata": {},
   "outputs": [
    {
     "name": "stdout",
     "output_type": "stream",
     "text": [
      "A,200\n",
      "both are equal\n"
     ]
    }
   ],
   "source": [
    "a = 200     # Nested if - we can have if statement inside if statement\n",
    "if a < 300:\n",
    "    print('A,200')\n",
    "    if a == 200:\n",
    "        print('both are equal')\n",
    "    else :\n",
    "        print('B')"
   ]
  },
  {
   "cell_type": "code",
   "execution_count": 14,
   "id": "be806ce5",
   "metadata": {},
   "outputs": [],
   "source": [
    "a = 20  #pass - if we have if statement with no content that time we use pass statement to avoid getting an error\n",
    "if a < 30:\n",
    "    pass"
   ]
  },
  {
   "cell_type": "code",
   "execution_count": null,
   "id": "ea18e989",
   "metadata": {},
   "outputs": [],
   "source": []
  }
 ],
 "metadata": {
  "kernelspec": {
   "display_name": "Python 3",
   "language": "python",
   "name": "python3"
  },
  "language_info": {
   "codemirror_mode": {
    "name": "ipython",
    "version": 3
   },
   "file_extension": ".py",
   "mimetype": "text/x-python",
   "name": "python",
   "nbconvert_exporter": "python",
   "pygments_lexer": "ipython3",
   "version": "3.8.8"
  }
 },
 "nbformat": 4,
 "nbformat_minor": 5
}
