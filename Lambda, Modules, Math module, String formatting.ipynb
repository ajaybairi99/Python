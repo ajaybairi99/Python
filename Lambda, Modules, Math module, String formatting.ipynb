{
 "cells": [
  {
   "cell_type": "markdown",
   "id": "c66cdf15",
   "metadata": {},
   "source": [
    "### Lambda :\n",
    "##### A lambda function is a small anonymous function. It can take any number of arguments, but can only have one expression."
   ]
  },
  {
   "cell_type": "code",
   "execution_count": 1,
   "id": "e5a75486",
   "metadata": {},
   "outputs": [
    {
     "data": {
      "text/plain": [
       "<function __main__.<lambda>(arguments)>"
      ]
     },
     "execution_count": 1,
     "metadata": {},
     "output_type": "execute_result"
    }
   ],
   "source": [
    "# basic syntax\n",
    "lambda arguments : expression"
   ]
  },
  {
   "cell_type": "code",
   "execution_count": 2,
   "id": "9182fc1b",
   "metadata": {},
   "outputs": [
    {
     "name": "stdout",
     "output_type": "stream",
     "text": [
      "15\n"
     ]
    }
   ],
   "source": [
    "# example \n",
    "a = lambda x : x+10\n",
    "print(a(5))"
   ]
  },
  {
   "cell_type": "code",
   "execution_count": 7,
   "id": "a21b226d",
   "metadata": {},
   "outputs": [
    {
     "name": "stdout",
     "output_type": "stream",
     "text": [
      "5\n"
     ]
    }
   ],
   "source": [
    "# multiple arguments\n",
    "a = lambda x,y : x+y\n",
    "print(a(2,3))"
   ]
  },
  {
   "cell_type": "code",
   "execution_count": 6,
   "id": "221b15eb",
   "metadata": {},
   "outputs": [
    {
     "name": "stdout",
     "output_type": "stream",
     "text": [
      "22\n"
     ]
    }
   ],
   "source": [
    "def func(n):\n",
    "    return lambda a : a * n\n",
    "\n",
    "my_func = func(2)\n",
    "\n",
    "print(my_func(11))\n"
   ]
  },
  {
   "cell_type": "markdown",
   "id": "d51900e1",
   "metadata": {},
   "source": [
    "### Modules :\n",
    "##### A module to be the same as a code library. A file containing a set of functions you want to include in your application."
   ]
  },
  {
   "cell_type": "code",
   "execution_count": 10,
   "id": "2ddba28f",
   "metadata": {},
   "outputs": [],
   "source": [
    "#create a module , syntax\n",
    "def greeting (name):\n",
    "    print(\"hello \", +name)"
   ]
  },
  {
   "cell_type": "code",
   "execution_count": null,
   "id": "1e0db714",
   "metadata": {},
   "outputs": [],
   "source": [
    "# use a module\n",
    "import mymodule\n",
    "\n",
    "mymodule.greeting(\"Jonathan\") #syntax : module_name.function_name"
   ]
  },
  {
   "cell_type": "markdown",
   "id": "c0f77f26",
   "metadata": {},
   "source": [
    "### Math module :\n",
    "##### Python has a set of built-in math functions, including an extensive math module, that allows you to perform mathematical tasks on numbers."
   ]
  },
  {
   "cell_type": "code",
   "execution_count": 15,
   "id": "4b8011e2",
   "metadata": {},
   "outputs": [
    {
     "name": "stdout",
     "output_type": "stream",
     "text": [
      "5\n",
      "25\n",
      "7.25\n"
     ]
    }
   ],
   "source": [
    "x = min(5, 10, 25)\n",
    "y = max(5, 10, 25)\n",
    "z = abs(-7.25)\n",
    "\n",
    "\n",
    "print(x)\n",
    "print(y)\n",
    "print(z)"
   ]
  },
  {
   "cell_type": "code",
   "execution_count": 16,
   "id": "4cfee3ab",
   "metadata": {},
   "outputs": [
    {
     "name": "stdout",
     "output_type": "stream",
     "text": [
      "8\n"
     ]
    }
   ],
   "source": [
    "A = pow(2,3)\n",
    "print(A)"
   ]
  },
  {
   "cell_type": "code",
   "execution_count": 17,
   "id": "1996acd3",
   "metadata": {},
   "outputs": [
    {
     "name": "stdout",
     "output_type": "stream",
     "text": [
      "8.0\n"
     ]
    }
   ],
   "source": [
    "# to use math module you must import the 'math' module\n",
    "import math\n",
    "\n",
    "x = math.sqrt(64)\n",
    "\n",
    "print(x)"
   ]
  },
  {
   "cell_type": "code",
   "execution_count": 18,
   "id": "69fc9b05",
   "metadata": {},
   "outputs": [
    {
     "name": "stdout",
     "output_type": "stream",
     "text": [
      "2\n",
      "1\n"
     ]
    }
   ],
   "source": [
    "import math\n",
    "\n",
    "x = math.ceil(1.4)  # upward to its nearest integer\n",
    "y = math.floor(1.4) # downwards to its nearest integer\n",
    "\n",
    "print(x) # returns 2\n",
    "print(y) # returns 1"
   ]
  },
  {
   "cell_type": "code",
   "execution_count": 20,
   "id": "cd1575f4",
   "metadata": {},
   "outputs": [
    {
     "name": "stdout",
     "output_type": "stream",
     "text": [
      "3.141592653589793\n"
     ]
    }
   ],
   "source": [
    "#The math.pi constant, returns the value of PI (3.14...):\n",
    "\n",
    "import math\n",
    "\n",
    "x = math.pi\n",
    "\n",
    "print(x)"
   ]
  },
  {
   "cell_type": "markdown",
   "id": "d210f628",
   "metadata": {},
   "source": [
    "### String formatting :\n",
    "##### The format() method allows you to format selected parts of a string.Sometimes there are parts of a text that you do not control, maybe they come from a database, or user input?To control such values, add placeholders (curly brackets {}) in the text, and run the values through the format() method."
   ]
  },
  {
   "cell_type": "code",
   "execution_count": 22,
   "id": "c77d5d2e",
   "metadata": {},
   "outputs": [
    {
     "name": "stdout",
     "output_type": "stream",
     "text": [
      "my age is 20 \n"
     ]
    }
   ],
   "source": [
    "a = 20\n",
    "b = \"my age is {} \"\n",
    "print(b.format(a))"
   ]
  },
  {
   "cell_type": "code",
   "execution_count": 25,
   "id": "48d22b91",
   "metadata": {},
   "outputs": [
    {
     "name": "stdout",
     "output_type": "stream",
     "text": [
      "I want 3 pieces of item number 567 for 49.00 dollars.\n"
     ]
    }
   ],
   "source": [
    "# multiple values\n",
    "quantity = 3\n",
    "itemno = 567\n",
    "price = 49\n",
    "myorder = \"I want {} pieces of item number {} for {:.2f} dollars.\"\n",
    "print(myorder.format(quantity, itemno, price))"
   ]
  },
  {
   "cell_type": "code",
   "execution_count": 26,
   "id": "4f69cef6",
   "metadata": {},
   "outputs": [
    {
     "name": "stdout",
     "output_type": "stream",
     "text": [
      "I want 3 pieces of item number 567 for 49.00 dollars.\n"
     ]
    }
   ],
   "source": [
    "# index numbers\n",
    "quantity = 3\n",
    "itemno = 567\n",
    "price = 49\n",
    "myorder = \"I want {0} pieces of item number {1} for {2:.2f} dollars.\"\n",
    "print(myorder.format(quantity, itemno, price))"
   ]
  },
  {
   "cell_type": "code",
   "execution_count": 27,
   "id": "8426856f",
   "metadata": {},
   "outputs": [
    {
     "name": "stdout",
     "output_type": "stream",
     "text": [
      "I have a Ford, it is a Mustang.\n"
     ]
    }
   ],
   "source": [
    "# named indexes\n",
    "myorder = \"I have a {carname}, it is a {model}.\"\n",
    "print(myorder.format(carname = \"Ford\", model = \"Mustang\"))"
   ]
  },
  {
   "cell_type": "code",
   "execution_count": null,
   "id": "dcafb882",
   "metadata": {},
   "outputs": [],
   "source": []
  }
 ],
 "metadata": {
  "kernelspec": {
   "display_name": "Python 3",
   "language": "python",
   "name": "python3"
  },
  "language_info": {
   "codemirror_mode": {
    "name": "ipython",
    "version": 3
   },
   "file_extension": ".py",
   "mimetype": "text/x-python",
   "name": "python",
   "nbconvert_exporter": "python",
   "pygments_lexer": "ipython3",
   "version": "3.8.8"
  }
 },
 "nbformat": 4,
 "nbformat_minor": 5
}
