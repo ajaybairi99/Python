{
 "cells": [
  {
   "cell_type": "markdown",
   "id": "8734fd22",
   "metadata": {},
   "source": [
    "### Python loops\n",
    "###### Python has two loop commands : For loop and While loop\n",
    "###### For loop : A for loop is used for iterating over a sequence. With the for loop we can execute a set of statements, once for each item in a          list,tuple, set etc.\n",
    "###### While loop : With the while loop we can execute a set of statements as long as a condition is true.\n",
    "### For loop :"
   ]
  },
  {
   "cell_type": "code",
   "execution_count": 15,
   "id": "6b884f0d",
   "metadata": {},
   "outputs": [
    {
     "name": "stdout",
     "output_type": "stream",
     "text": [
      "swift\n",
      "tiago\n",
      "brezza\n",
      "nexon\n"
     ]
    }
   ],
   "source": [
    "cars = ['swift','tiago','brezza','nexon']  #syntax\n",
    "for x in cars :\n",
    "    print(x)"
   ]
  },
  {
   "cell_type": "code",
   "execution_count": 2,
   "id": "b90f0496",
   "metadata": {},
   "outputs": [
    {
     "name": "stdout",
     "output_type": "stream",
     "text": [
      "R\n",
      "a\n",
      "t\n",
      "a\n",
      "n\n",
      " \n",
      "T\n",
      "a\n",
      "t\n",
      "a\n"
     ]
    }
   ],
   "source": [
    "a = 'Ratan Tata'  #looping through a string\n",
    "for x in a:\n",
    "    print(x)"
   ]
  },
  {
   "cell_type": "code",
   "execution_count": 3,
   "id": "34ad5086",
   "metadata": {},
   "outputs": [
    {
     "name": "stdout",
     "output_type": "stream",
     "text": [
      "swift\n",
      "tiago\n",
      "brezza\n"
     ]
    }
   ],
   "source": [
    "cars = ['swift','tiago','brezza','nexon']  #break statement\n",
    "for x in cars:\n",
    "    print(x)\n",
    "    if x == 'brezza':\n",
    "        break\n",
    "    "
   ]
  },
  {
   "cell_type": "code",
   "execution_count": 4,
   "id": "27f367eb",
   "metadata": {},
   "outputs": [
    {
     "name": "stdout",
     "output_type": "stream",
     "text": [
      "swift\n",
      "tiago\n"
     ]
    }
   ],
   "source": [
    "cars = ['swift','tiago','brezza','nexon'] # break comes before the print\n",
    "for x in cars:\n",
    "    if x == 'brezza':\n",
    "        break\n",
    "    print(x)"
   ]
  },
  {
   "cell_type": "code",
   "execution_count": 5,
   "id": "f2bee611",
   "metadata": {},
   "outputs": [
    {
     "name": "stdout",
     "output_type": "stream",
     "text": [
      "swift\n",
      "brezza\n",
      "nexon\n"
     ]
    }
   ],
   "source": [
    "cars = ['swift','tiago','brezza','nexon'] #continue statement\n",
    "for x in cars :\n",
    "    if x == 'tiago':\n",
    "        continue\n",
    "    print(x)"
   ]
  },
  {
   "cell_type": "code",
   "execution_count": 6,
   "id": "d154cc53",
   "metadata": {},
   "outputs": [
    {
     "name": "stdout",
     "output_type": "stream",
     "text": [
      "0\n",
      "1\n",
      "2\n",
      "3\n",
      "4\n",
      "5\n",
      "6\n",
      "7\n",
      "8\n",
      "9\n"
     ]
    }
   ],
   "source": [
    "for a in range(10):   #range() funtion\n",
    "    print(a)"
   ]
  },
  {
   "cell_type": "code",
   "execution_count": 7,
   "id": "b52c696e",
   "metadata": {},
   "outputs": [
    {
     "name": "stdout",
     "output_type": "stream",
     "text": [
      "5\n",
      "6\n",
      "7\n",
      "8\n",
      "9\n"
     ]
    }
   ],
   "source": [
    "for a in range(5,10):  # range(), using the start parameter\n",
    "    print(a)"
   ]
  },
  {
   "cell_type": "code",
   "execution_count": 8,
   "id": "9d3a86af",
   "metadata": {},
   "outputs": [
    {
     "name": "stdout",
     "output_type": "stream",
     "text": [
      "0\n",
      "10\n",
      "20\n",
      "30\n",
      "40\n",
      "50\n",
      "60\n",
      "70\n",
      "80\n",
      "90\n"
     ]
    }
   ],
   "source": [
    "for i in range(0,100,10):   #range(), increment the sequence with 10\n",
    "    print(i) "
   ]
  },
  {
   "cell_type": "code",
   "execution_count": 9,
   "id": "4fadd5e7",
   "metadata": {},
   "outputs": [
    {
     "name": "stdout",
     "output_type": "stream",
     "text": [
      "0\n",
      "100\n",
      "200\n",
      "300\n",
      "400\n",
      "finally completed\n"
     ]
    }
   ],
   "source": [
    "#Else in For Loop: The else keyword in a for loop specifies a block of code to be executed when the loop is finished\n",
    "for i in range(0,500,100):\n",
    "    print(i)\n",
    "else :\n",
    "    print('finally completed')"
   ]
  },
  {
   "cell_type": "code",
   "execution_count": 11,
   "id": "93a0a34c",
   "metadata": {},
   "outputs": [
    {
     "name": "stdout",
     "output_type": "stream",
     "text": [
      "0\n",
      "5\n",
      "10\n"
     ]
    }
   ],
   "source": [
    "for b in range(0,25,5):\n",
    "    if b == 15:\n",
    "        break\n",
    "    print(b)\n",
    "else :\n",
    "    print('its finished')"
   ]
  },
  {
   "cell_type": "code",
   "execution_count": 13,
   "id": "dc2c792d",
   "metadata": {},
   "outputs": [
    {
     "name": "stdout",
     "output_type": "stream",
     "text": [
      "swift 4\n",
      "tiago 4\n",
      "brezza 4\n",
      "nexon 4\n"
     ]
    }
   ],
   "source": [
    "cars = ['swift','tiago','brezza','nexon']  #nested for loop\n",
    "total_cars= '4'\n",
    "for x in cars:\n",
    "    for y in total_cars:\n",
    "        print(x,y)"
   ]
  },
  {
   "cell_type": "code",
   "execution_count": 14,
   "id": "0fda33de",
   "metadata": {},
   "outputs": [],
   "source": [
    "for x in [0,2,3]:  #pass statement\n",
    "    pass"
   ]
  },
  {
   "cell_type": "code",
   "execution_count": null,
   "id": "4e6fb94c",
   "metadata": {},
   "outputs": [],
   "source": []
  },
  {
   "cell_type": "code",
   "execution_count": null,
   "id": "159ab0fd",
   "metadata": {},
   "outputs": [],
   "source": []
  },
  {
   "cell_type": "markdown",
   "id": "30da1fd2",
   "metadata": {},
   "source": [
    "### While loop :"
   ]
  },
  {
   "cell_type": "code",
   "execution_count": 1,
   "id": "eedb5baa",
   "metadata": {},
   "outputs": [
    {
     "name": "stdout",
     "output_type": "stream",
     "text": [
      "2\n",
      "4\n",
      "6\n",
      "8\n"
     ]
    }
   ],
   "source": [
    "a = 2    #syntax\n",
    "while a < 10:\n",
    "    print(a)\n",
    "    a += 2"
   ]
  },
  {
   "cell_type": "code",
   "execution_count": 2,
   "id": "ea2fca6d",
   "metadata": {},
   "outputs": [
    {
     "name": "stdout",
     "output_type": "stream",
     "text": [
      "5\n",
      "10\n",
      "15\n",
      "20\n",
      "25\n",
      "30\n"
     ]
    }
   ],
   "source": [
    "a = 5      #break statement\n",
    "while a < 50:\n",
    "    print(a)\n",
    "    if a == 30:\n",
    "        break\n",
    "    a += 5\n",
    "    "
   ]
  },
  {
   "cell_type": "code",
   "execution_count": 2,
   "id": "fc67fc71",
   "metadata": {},
   "outputs": [
    {
     "name": "stdout",
     "output_type": "stream",
     "text": [
      "2\n",
      "4\n",
      "8\n",
      "10\n"
     ]
    }
   ],
   "source": [
    "a = 0\n",
    "while a < 10:    #continue statement\n",
    "    a += 2\n",
    "    if a == 6:\n",
    "        continue\n",
    "    print(a)"
   ]
  },
  {
   "cell_type": "code",
   "execution_count": 4,
   "id": "0996c64f",
   "metadata": {},
   "outputs": [
    {
     "name": "stdout",
     "output_type": "stream",
     "text": [
      "8\n",
      "12\n",
      "16\n",
      "20\n",
      "upto 20 completed\n"
     ]
    }
   ],
   "source": [
    "c = 8\n",
    "while c <= 20:\n",
    "    print(c)\n",
    "    c+=4\n",
    "else:\n",
    "    print('upto 20 completed')"
   ]
  },
  {
   "cell_type": "code",
   "execution_count": null,
   "id": "b00505cb",
   "metadata": {},
   "outputs": [],
   "source": []
  }
 ],
 "metadata": {
  "kernelspec": {
   "display_name": "Python 3",
   "language": "python",
   "name": "python3"
  },
  "language_info": {
   "codemirror_mode": {
    "name": "ipython",
    "version": 3
   },
   "file_extension": ".py",
   "mimetype": "text/x-python",
   "name": "python",
   "nbconvert_exporter": "python",
   "pygments_lexer": "ipython3",
   "version": "3.8.8"
  }
 },
 "nbformat": 4,
 "nbformat_minor": 5
}
