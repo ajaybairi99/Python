{
 "cells": [
  {
   "cell_type": "code",
   "execution_count": 1,
   "id": "28169683",
   "metadata": {},
   "outputs": [
    {
     "name": "stdout",
     "output_type": "stream",
     "text": [
      "<class 'set'>\n"
     ]
    }
   ],
   "source": [
    "set = {'file','edit','view','insert'}\n",
    "print(type(set))"
   ]
  },
  {
   "cell_type": "code",
   "execution_count": 2,
   "id": "fcc25624",
   "metadata": {},
   "outputs": [
    {
     "name": "stdout",
     "output_type": "stream",
     "text": [
      "{'edit', 'insert', 'view', 'file'}\n"
     ]
    }
   ],
   "source": [
    "set = {'file','edit','view','insert','file','edit'} #set not allowed duplicate values\n",
    "print(set)"
   ]
  },
  {
   "cell_type": "code",
   "execution_count": 3,
   "id": "362fd2a8",
   "metadata": {},
   "outputs": [
    {
     "name": "stdout",
     "output_type": "stream",
     "text": [
      "4\n"
     ]
    }
   ],
   "source": [
    "set = {'file','edit','view','insert'} #length of set\n",
    "print(len(set))"
   ]
  },
  {
   "cell_type": "code",
   "execution_count": 4,
   "id": "7691904f",
   "metadata": {},
   "outputs": [
    {
     "name": "stdout",
     "output_type": "stream",
     "text": [
      "{'edit', 'file', 'cell', 'insert', 'view'}\n"
     ]
    }
   ],
   "source": [
    "set = {'file','edit','view','insert'} #to add an item to set #add()\n",
    "set.add('cell')\n",
    "print(set)"
   ]
  },
  {
   "cell_type": "code",
   "execution_count": 5,
   "id": "cbd4b8f7",
   "metadata": {},
   "outputs": [
    {
     "name": "stdout",
     "output_type": "stream",
     "text": [
      "{'pineapple', 'cherry', 'apple', 'banana', 'papaya', 'mango'}\n"
     ]
    }
   ],
   "source": [
    "#To add items from another set into the current set #update()\n",
    "\n",
    "f = {\"apple\", \"banana\", \"cherry\"}\n",
    "a = {\"pineapple\", \"mango\", \"papaya\"}\n",
    "f.update(a)\n",
    "print(f)"
   ]
  },
  {
   "cell_type": "code",
   "execution_count": 6,
   "id": "c9453b00",
   "metadata": {},
   "outputs": [
    {
     "name": "stdout",
     "output_type": "stream",
     "text": [
      "{'insert', 'view', 'file'}\n",
      "{'insert', 'view'}\n"
     ]
    }
   ],
   "source": [
    "set = {'file','edit','view','insert'} #removing item #remove()&discard() also can remove item\n",
    "set.remove('edit')\n",
    "print(set)\n",
    "set.discard('file')\n",
    "print(set)"
   ]
  },
  {
   "cell_type": "code",
   "execution_count": 7,
   "id": "a210be7c",
   "metadata": {},
   "outputs": [
    {
     "name": "stdout",
     "output_type": "stream",
     "text": [
      "set()\n"
     ]
    }
   ],
   "source": [
    "#clear() & del used to delete the set\n",
    "set = {'file','edit','view','insert'}\n",
    "set.clear()\n",
    "print(set)"
   ]
  },
  {
   "cell_type": "code",
   "execution_count": 8,
   "id": "d6b1b269",
   "metadata": {},
   "outputs": [
    {
     "name": "stdout",
     "output_type": "stream",
     "text": [
      "{1, 2, 3, 'b', 'a', 'c'}\n"
     ]
    }
   ],
   "source": [
    "set1 = {\"a\", \"b\" , \"c\"} # union() & update() used to join two sets\n",
    "set2 = {1, 2, 3}\n",
    "\n",
    "a = set1.union(set2)\n",
    "print(a)"
   ]
  },
  {
   "cell_type": "code",
   "execution_count": 10,
   "id": "04e5f9c2",
   "metadata": {},
   "outputs": [
    {
     "name": "stdout",
     "output_type": "stream",
     "text": [
      "{'apple'}\n"
     ]
    }
   ],
   "source": [
    "x = {\"apple\", \"banana\", \"cherry\"} #intersection_update() - will get common values from both sets\n",
    "y = {\"google\", \"microsoft\", \"apple\"}\n",
    "\n",
    "x.intersection_update(y)\n",
    "\n",
    "print(x)"
   ]
  },
  {
   "cell_type": "code",
   "execution_count": 12,
   "id": "9eed826d",
   "metadata": {
    "scrolled": true
   },
   "outputs": [
    {
     "name": "stdout",
     "output_type": "stream",
     "text": [
      "{'microsoft', 'google', 'cherry', 'banana'}\n"
     ]
    }
   ],
   "source": [
    "x = {\"apple\", \"banana\", \"cherry\"} #symmetric_difference - return only the element that are not present in both sets\n",
    "y = {\"google\", \"microsoft\", \"apple\"}\n",
    "\n",
    "z=x.symmetric_difference(y)\n",
    "print(z)"
   ]
  },
  {
   "cell_type": "code",
   "execution_count": 13,
   "id": "92caa140",
   "metadata": {},
   "outputs": [
    {
     "name": "stdout",
     "output_type": "stream",
     "text": [
      "{'banana', 'cherry'}\n"
     ]
    }
   ],
   "source": [
    "x = {\"apple\", \"banana\", \"cherry\"} #difference()-Returns a set containing the difference between two or more sets\n",
    "y = {\"google\", \"microsoft\", \"apple\"}\n",
    "\n",
    "z= x.difference(y)\n",
    "print(z)"
   ]
  },
  {
   "cell_type": "code",
   "execution_count": 16,
   "id": "3e559e21",
   "metadata": {},
   "outputs": [
    {
     "name": "stdout",
     "output_type": "stream",
     "text": [
      "True\n"
     ]
    }
   ],
   "source": [
    "#isdisjoint -  returns True if none of the items are present in both sets, otherwise it returns False.\n",
    "\n",
    "a = {'file','edit','view','insert'}\n",
    "b = {'cell','kernel','run','help'}\n",
    "c = a.isdisjoint(b)\n",
    "print(c)"
   ]
  },
  {
   "cell_type": "code",
   "execution_count": 18,
   "id": "5351b66f",
   "metadata": {},
   "outputs": [
    {
     "name": "stdout",
     "output_type": "stream",
     "text": [
      "False\n"
     ]
    }
   ],
   "source": [
    "#issubset() -Returns whether another set contains this set or not\n",
    "a = {'file','edit','view','insert'}\n",
    "b = {'cell','kernel','run','help'}\n",
    "c= a.issubset(b)\n",
    "print(c)"
   ]
  },
  {
   "cell_type": "code",
   "execution_count": 19,
   "id": "a08c14d3",
   "metadata": {},
   "outputs": [
    {
     "name": "stdout",
     "output_type": "stream",
     "text": [
      "False\n"
     ]
    }
   ],
   "source": [
    "#issuperset() - Returns whether this set contains another set or not\n",
    "a = {'file','edit','view','insert'}\n",
    "b = {'cell','kernel','run','help'}\n",
    "c= a.issuperset(b)\n",
    "print(c)"
   ]
  },
  {
   "cell_type": "code",
   "execution_count": null,
   "id": "faf7bc29",
   "metadata": {},
   "outputs": [],
   "source": []
  }
 ],
 "metadata": {
  "kernelspec": {
   "display_name": "Python 3",
   "language": "python",
   "name": "python3"
  },
  "language_info": {
   "codemirror_mode": {
    "name": "ipython",
    "version": 3
   },
   "file_extension": ".py",
   "mimetype": "text/x-python",
   "name": "python",
   "nbconvert_exporter": "python",
   "pygments_lexer": "ipython3",
   "version": "3.8.8"
  }
 },
 "nbformat": 4,
 "nbformat_minor": 5
}
