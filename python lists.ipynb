{
 "cells": [
  {
   "cell_type": "code",
   "execution_count": null,
   "id": "751fdb29",
   "metadata": {},
   "outputs": [],
   "source": [
    "#lists"
   ]
  },
  {
   "cell_type": "code",
   "execution_count": 6,
   "id": "a6ecc36b",
   "metadata": {},
   "outputs": [
    {
     "name": "stdout",
     "output_type": "stream",
     "text": [
      "<class 'list'>\n",
      "['strings', 'lists', 'tuple', 'sets', 'dictionary']\n"
     ]
    }
   ],
   "source": [
    "data_types = ['strings','lists','tuple','sets','dictionary'] #list variable\n",
    "print(type(data_types))\n",
    "print(data_types)"
   ]
  },
  {
   "cell_type": "code",
   "execution_count": 3,
   "id": "523e8263",
   "metadata": {},
   "outputs": [
    {
     "name": "stdout",
     "output_type": "stream",
     "text": [
      "[1, 2, 4, 1, 1]\n"
     ]
    }
   ],
   "source": [
    "N_num = [1,2,4,1,1]  #lists allow duplicate values\n",
    "print(N_num)"
   ]
  },
  {
   "cell_type": "code",
   "execution_count": 4,
   "id": "6f31dbbf",
   "metadata": {},
   "outputs": [
    {
     "name": "stdout",
     "output_type": "stream",
     "text": [
      "4\n"
     ]
    }
   ],
   "source": [
    "list = [1,'python',2.5,True] #list length\n",
    "print(len(list))"
   ]
  },
  {
   "cell_type": "code",
   "execution_count": 7,
   "id": "14ce1abf",
   "metadata": {},
   "outputs": [
    {
     "name": "stdout",
     "output_type": "stream",
     "text": [
      "cherry\n"
     ]
    }
   ],
   "source": [
    "fruits = [\"apple\", \"banana\", \"cherry\"]  #accessing the item with index\n",
    "print(fruits[2])"
   ]
  },
  {
   "cell_type": "code",
   "execution_count": 8,
   "id": "9b0cf87b",
   "metadata": {},
   "outputs": [
    {
     "name": "stdout",
     "output_type": "stream",
     "text": [
      "fox\n"
     ]
    }
   ],
   "source": [
    "animals = ['tiger','lion','fox'] #negative indexing\n",
    "print(animals[-1])"
   ]
  },
  {
   "cell_type": "code",
   "execution_count": 14,
   "id": "e6a91b87",
   "metadata": {},
   "outputs": [
    {
     "name": "stdout",
     "output_type": "stream",
     "text": [
      "['cherry', 'orange', 'kiwi']\n",
      "['apple', 'banana', 'cherry', 'orange', 'kiwi']\n",
      "['melon', 'mango']\n",
      "['apple', 'banana', 'cherry', 'orange', 'kiwi', 'melon', 'mango']\n"
     ]
    }
   ],
   "source": [
    "list = [\"apple\", \"banana\", \"cherry\", \"orange\", \"kiwi\", \"melon\", \"mango\"] #range of indexes\n",
    "print(list[2:5])\n",
    "print(list[:5])\n",
    "print(list[5:])\n"
   ]
  },
  {
   "cell_type": "code",
   "execution_count": 18,
   "id": "94f080ec",
   "metadata": {},
   "outputs": [
    {
     "name": "stdout",
     "output_type": "stream",
     "text": [
      "yes, cherry is present\n"
     ]
    }
   ],
   "source": [
    "list = [\"apple\", \"banana\", \"cherry\", \"orange\", \"kiwi\", \"melon\", \"mango\"] \n",
    "if 'cherry' in list:\n",
    "    print('yes, cherry is present')"
   ]
  },
  {
   "cell_type": "code",
   "execution_count": 19,
   "id": "45321b96",
   "metadata": {},
   "outputs": [
    {
     "name": "stdout",
     "output_type": "stream",
     "text": [
      "['rajesh', 'sai', 'sridhar']\n"
     ]
    }
   ],
   "source": [
    "Name = ['ajay','sai','sridhar'] #change list items\n",
    "Name[0]='rajesh'\n",
    "print(Name)"
   ]
  },
  {
   "cell_type": "code",
   "execution_count": 22,
   "id": "3cf5f7d8",
   "metadata": {},
   "outputs": [
    {
     "name": "stdout",
     "output_type": "stream",
     "text": [
      "['rajesh', 'mahesh', 'sridhar']\n"
     ]
    }
   ],
   "source": [
    "Name = ['ajay','sai','sridhar'] #To change the value of items within a specific range\n",
    "Name[0:2]=['rajesh','mahesh']\n",
    "print(Name)"
   ]
  },
  {
   "cell_type": "code",
   "execution_count": 26,
   "id": "6921a5cc",
   "metadata": {},
   "outputs": [
    {
     "name": "stdout",
     "output_type": "stream",
     "text": [
      "[1, 8, 2, 3, 4, 5, 6]\n"
     ]
    }
   ],
   "source": [
    "number = [1,2,3,4,5,6] # To insert a new list item #insert\n",
    "number.insert(1,8)\n",
    "print(number)"
   ]
  },
  {
   "cell_type": "code",
   "execution_count": 27,
   "id": "6b786a34",
   "metadata": {},
   "outputs": [
    {
     "name": "stdout",
     "output_type": "stream",
     "text": [
      "[4, 5, 6, 7, 8]\n"
     ]
    }
   ],
   "source": [
    "n = [4,5,6,7] #To add an item to the end of the list #append()\n",
    "n.append(8)\n",
    "print(n)"
   ]
  },
  {
   "cell_type": "code",
   "execution_count": 28,
   "id": "08f0b22b",
   "metadata": {},
   "outputs": [
    {
     "name": "stdout",
     "output_type": "stream",
     "text": [
      "[1, 3, 5, 7, 11, 13]\n"
     ]
    }
   ],
   "source": [
    "prime_numbers = [1,3,5] #To add the elements from another list to the current list #extend\n",
    "pm = [7,11,13]\n",
    "prime_numbers.extend(pm)\n",
    "print(prime_numbers)"
   ]
  },
  {
   "cell_type": "code",
   "execution_count": 29,
   "id": "324c0a13",
   "metadata": {},
   "outputs": [
    {
     "name": "stdout",
     "output_type": "stream",
     "text": [
      "[1, 3, 7, 11, 13]\n"
     ]
    }
   ],
   "source": [
    "pm = [1,3,5,7,11,13] #Remove specified item #remove()\n",
    "pm.remove(5)\n",
    "print(pm)"
   ]
  },
  {
   "cell_type": "code",
   "execution_count": 30,
   "id": "d4e2fff4",
   "metadata": {},
   "outputs": [
    {
     "name": "stdout",
     "output_type": "stream",
     "text": [
      "[1, 3, 5, 11, 13]\n"
     ]
    }
   ],
   "source": [
    "pm = [1,3,5,7,11,13] #Remove specified index #pop()\n",
    "pm.pop(3)\n",
    "print(pm)"
   ]
  },
  {
   "cell_type": "code",
   "execution_count": 36,
   "id": "5938247a",
   "metadata": {},
   "outputs": [
    {
     "name": "stdout",
     "output_type": "stream",
     "text": [
      "[1, 3, 7, 11, 13]\n"
     ]
    },
    {
     "ename": "NameError",
     "evalue": "name 'pm' is not defined",
     "output_type": "error",
     "traceback": [
      "\u001b[1;31m---------------------------------------------------------------------------\u001b[0m",
      "\u001b[1;31mNameError\u001b[0m                                 Traceback (most recent call last)",
      "\u001b[1;32m<ipython-input-36-05559d50e2d1>\u001b[0m in \u001b[0;36m<module>\u001b[1;34m\u001b[0m\n\u001b[0;32m      3\u001b[0m \u001b[0mprint\u001b[0m\u001b[1;33m(\u001b[0m\u001b[0mpm\u001b[0m\u001b[1;33m)\u001b[0m\u001b[1;33m\u001b[0m\u001b[1;33m\u001b[0m\u001b[0m\n\u001b[0;32m      4\u001b[0m \u001b[1;32mdel\u001b[0m \u001b[0mpm\u001b[0m\u001b[1;33m\u001b[0m\u001b[1;33m\u001b[0m\u001b[0m\n\u001b[1;32m----> 5\u001b[1;33m \u001b[0mprint\u001b[0m\u001b[1;33m(\u001b[0m\u001b[0mpm\u001b[0m\u001b[1;33m)\u001b[0m\u001b[1;33m\u001b[0m\u001b[1;33m\u001b[0m\u001b[0m\n\u001b[0m",
      "\u001b[1;31mNameError\u001b[0m: name 'pm' is not defined"
     ]
    }
   ],
   "source": [
    "pm = [1,3,5,7,11,13]  #also remove specified index and also delete total list #del\n",
    "del pm[2]\n",
    "print(pm)\n",
    "del pm #will give error cause pm list already deleted\n",
    "print(pm)"
   ]
  },
  {
   "cell_type": "code",
   "execution_count": 37,
   "id": "d32b3bc0",
   "metadata": {},
   "outputs": [
    {
     "name": "stdout",
     "output_type": "stream",
     "text": [
      "[]\n"
     ]
    }
   ],
   "source": [
    "pm = [1,3,5,7,11,13] #to clear the list #clear()\n",
    "pm.clear()\n",
    "print(pm) #will get empty list"
   ]
  },
  {
   "cell_type": "code",
   "execution_count": 39,
   "id": "30171919",
   "metadata": {},
   "outputs": [
    {
     "name": "stdout",
     "output_type": "stream",
     "text": [
      "[1, 2, 3, 4, 5, 6, 7]\n"
     ]
    }
   ],
   "source": [
    "num = [1,2,6,5,4,7,3] #list sorting #sort()\n",
    "num.sort()\n",
    "print(num)"
   ]
  },
  {
   "cell_type": "code",
   "execution_count": 43,
   "id": "8a8f1951",
   "metadata": {},
   "outputs": [
    {
     "name": "stdout",
     "output_type": "stream",
     "text": [
      "[7, 6, 5, 4, 3, 2, 1]\n"
     ]
    }
   ],
   "source": [
    "num = [1,2,6,5,4,7,3] # for descending order\n",
    "num.sort(reverse=True) \n",
    "print(num)"
   ]
  },
  {
   "cell_type": "code",
   "execution_count": 46,
   "id": "33deb538",
   "metadata": {},
   "outputs": [
    {
     "name": "stdout",
     "output_type": "stream",
     "text": [
      "[1, 2, 6, 5, 4, 7, 3]\n"
     ]
    }
   ],
   "source": [
    "num = [1,2,6,5,4,7,3] #to make copy of list #copy()\n",
    "nat_num=num.copy()\n",
    "print(nat_num)"
   ]
  },
  {
   "cell_type": "code",
   "execution_count": 47,
   "id": "69153c56",
   "metadata": {},
   "outputs": [
    {
     "name": "stdout",
     "output_type": "stream",
     "text": [
      "['a', 'b', 'c', 1, 2, 3]\n"
     ]
    }
   ],
   "source": [
    "A = [\"a\", \"b\", \"c\"] #join two list with + operator\n",
    "N = [1, 2, 3]\n",
    "B = A+N\n",
    "print(B)"
   ]
  },
  {
   "cell_type": "code",
   "execution_count": 52,
   "id": "634285e7",
   "metadata": {},
   "outputs": [
    {
     "name": "stdout",
     "output_type": "stream",
     "text": [
      "1\n"
     ]
    }
   ],
   "source": [
    "num = [1,2,6,5,4,7,3] #couting the particular item #count()\n",
    "a=num.count(7) \n",
    "print(a)"
   ]
  },
  {
   "cell_type": "code",
   "execution_count": null,
   "id": "2ac256ac",
   "metadata": {},
   "outputs": [],
   "source": []
  }
 ],
 "metadata": {
  "kernelspec": {
   "display_name": "Python 3",
   "language": "python",
   "name": "python3"
  },
  "language_info": {
   "codemirror_mode": {
    "name": "ipython",
    "version": 3
   },
   "file_extension": ".py",
   "mimetype": "text/x-python",
   "name": "python",
   "nbconvert_exporter": "python",
   "pygments_lexer": "ipython3",
   "version": "3.8.8"
  }
 },
 "nbformat": 4,
 "nbformat_minor": 5
}
