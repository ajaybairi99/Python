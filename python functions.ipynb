{
 "cells": [
  {
   "cell_type": "markdown",
   "id": "d5411530",
   "metadata": {},
   "source": [
    "### Python functions\n",
    "##### A function is a block of code which only runs when it is called.You can pass data, known as parameters, into a function.It can return data as a result.\n",
    "##### A function is defined using the 'def' keyword."
   ]
  },
  {
   "cell_type": "code",
   "execution_count": 3,
   "id": "72f3066b",
   "metadata": {},
   "outputs": [
    {
     "name": "stdout",
     "output_type": "stream",
     "text": [
      "Hello i am ajay\n"
     ]
    }
   ],
   "source": [
    "#syntax, creating a function\n",
    "def my_function():\n",
    "    print('Hello i am ajay')\n",
    "my_function()"
   ]
  },
  {
   "cell_type": "code",
   "execution_count": 18,
   "id": "f920dbbf",
   "metadata": {},
   "outputs": [
    {
     "name": "stdout",
     "output_type": "stream",
     "text": [
      "my name is ajay\n"
     ]
    }
   ],
   "source": [
    "#Arguments - Information can be passed into functions as arguments\n",
    "def person(name):\n",
    "    print(name + \"ajay\")\n",
    "person(\"my name is \")"
   ]
  },
  {
   "cell_type": "code",
   "execution_count": 27,
   "id": "3892b9d4",
   "metadata": {},
   "outputs": [
    {
     "name": "stdout",
     "output_type": "stream",
     "text": [
      "my name is ajay, i have knowledge of python\n"
     ]
    }
   ],
   "source": [
    "# number of arguments\n",
    "def student(name,skill):\n",
    "    print(name + \" ajay,\" + skill + \"python\")\n",
    "student(\"my name is\",\" i have knowledge of \")"
   ]
  },
  {
   "cell_type": "code",
   "execution_count": 28,
   "id": "12f932f0",
   "metadata": {},
   "outputs": [
    {
     "name": "stdout",
     "output_type": "stream",
     "text": [
      "student name sai\n"
     ]
    }
   ],
   "source": [
    "# Arbitary arguments, *args\n",
    "def student(*name):\n",
    "    print(\"student name \" + name[1])\n",
    "student(\"ajay\",\"sai\",\"raju\")"
   ]
  },
  {
   "cell_type": "code",
   "execution_count": 34,
   "id": "01d24bdf",
   "metadata": {},
   "outputs": [
    {
     "name": "stdout",
     "output_type": "stream",
     "text": [
      "student name raju\n"
     ]
    }
   ],
   "source": [
    "# keyword arguments \n",
    "def student(name1,name2,name3):\n",
    "    print(\"student name \" + name3)\n",
    "student(name1 = \"ajay\", name2 = \"sai\", name3 = \"raju\")"
   ]
  },
  {
   "cell_type": "code",
   "execution_count": 33,
   "id": "93fc2620",
   "metadata": {},
   "outputs": [
    {
     "name": "stdout",
     "output_type": "stream",
     "text": [
      "The youngest child is Linus\n"
     ]
    }
   ],
   "source": [
    "def my_function(child3, child2, child1):\n",
    "  print(\"The youngest child is \" + child3)\n",
    "\n",
    "my_function(child1 = \"Emil\", child2 = \"Tobias\", child3 = \"Linus\")"
   ]
  },
  {
   "cell_type": "code",
   "execution_count": 36,
   "id": "a171245d",
   "metadata": {},
   "outputs": [
    {
     "name": "stdout",
     "output_type": "stream",
     "text": [
      "India's richest person Mukesh Ambani\n"
     ]
    }
   ],
   "source": [
    "# Arbitary keword arguments , **kwargs\n",
    "def Richest_persons(**name):\n",
    "    print(\"India's richest person \" + name[\"name2\"])\n",
    "Richest_persons(name1=\"Ratan Tata\", name2=\"Mukesh Ambani\")"
   ]
  },
  {
   "cell_type": "code",
   "execution_count": 37,
   "id": "4949ca17",
   "metadata": {},
   "outputs": [
    {
     "name": "stdout",
     "output_type": "stream",
     "text": [
      "I am from hyderabad\n",
      "I am from khammam\n",
      "I am from karimnagar\n"
     ]
    }
   ],
   "source": [
    "# Default parameter value\n",
    "def City(city=\"karimnagar\"):\n",
    "    print(\"I am from \" + city)\n",
    "City(\"hyderabad\")\n",
    "City(\"khammam\")\n",
    "City()        # it will take by default"
   ]
  },
  {
   "cell_type": "code",
   "execution_count": 39,
   "id": "c1a93239",
   "metadata": {},
   "outputs": [
    {
     "name": "stdout",
     "output_type": "stream",
     "text": [
      "apple\n",
      "orange\n",
      "lemon\n"
     ]
    }
   ],
   "source": [
    "# Passing a List as an Argument\n",
    "def func(food):\n",
    "    for a in food:\n",
    "        print(a)\n",
    "fruits = ['apple','orange','lemon']\n",
    "func(fruits)"
   ]
  },
  {
   "cell_type": "code",
   "execution_count": 40,
   "id": "c9fdf4c1",
   "metadata": {},
   "outputs": [
    {
     "name": "stdout",
     "output_type": "stream",
     "text": [
      "4\n",
      "6\n",
      "10\n"
     ]
    }
   ],
   "source": [
    "#  Return values\n",
    "def number(x):\n",
    "    return 2*x\n",
    "print(number(2))\n",
    "print(number(3))\n",
    "print(number(5))"
   ]
  },
  {
   "cell_type": "code",
   "execution_count": 41,
   "id": "b2b34872",
   "metadata": {},
   "outputs": [],
   "source": [
    "# pass statement\n",
    "def brand():\n",
    "    pass"
   ]
  },
  {
   "cell_type": "code",
   "execution_count": 49,
   "id": "804ddfe8",
   "metadata": {},
   "outputs": [
    {
     "name": "stdout",
     "output_type": "stream",
     "text": [
      "\n",
      "\n",
      "Recursion Example Results\n",
      "1\n",
      "3\n",
      "6\n",
      "10\n",
      "15\n",
      "21\n"
     ]
    },
    {
     "data": {
      "text/plain": [
       "21"
      ]
     },
     "execution_count": 49,
     "metadata": {},
     "output_type": "execute_result"
    }
   ],
   "source": [
    "# Recursion\n",
    "def recursion(x):\n",
    "    if x>0 :\n",
    "        result = x + recursion(x-1)\n",
    "        print(result)\n",
    "    else :\n",
    "        result = 0\n",
    "    return result\n",
    "\n",
    "print(\"\\n\\nRecursion Example Results\")\n",
    "recursion(6)"
   ]
  },
  {
   "cell_type": "code",
   "execution_count": null,
   "id": "05bb9fbb",
   "metadata": {},
   "outputs": [],
   "source": []
  }
 ],
 "metadata": {
  "kernelspec": {
   "display_name": "Python 3",
   "language": "python",
   "name": "python3"
  },
  "language_info": {
   "codemirror_mode": {
    "name": "ipython",
    "version": 3
   },
   "file_extension": ".py",
   "mimetype": "text/x-python",
   "name": "python",
   "nbconvert_exporter": "python",
   "pygments_lexer": "ipython3",
   "version": "3.8.8"
  }
 },
 "nbformat": 4,
 "nbformat_minor": 5
}
