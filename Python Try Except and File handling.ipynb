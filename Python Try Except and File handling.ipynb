{
 "cells": [
  {
   "cell_type": "markdown",
   "id": "028b0a3a",
   "metadata": {},
   "source": [
    "### Try Except :\n",
    "##### The try block lets you test a block of code for errors.\n",
    "\n",
    "##### The except block lets you handle the error.\n",
    "\n",
    "##### The else block lets you execute code when there is no error.\n",
    "\n",
    "##### The finally block lets you execute code, regardless of the result of the try- and except blocks."
   ]
  },
  {
   "cell_type": "code",
   "execution_count": 2,
   "id": "a7b408ca",
   "metadata": {},
   "outputs": [
    {
     "name": "stdout",
     "output_type": "stream",
     "text": [
      "an exception occured\n"
     ]
    }
   ],
   "source": [
    "# exception handling\n",
    "try :\n",
    "    print(a)\n",
    "except :\n",
    "    print('an exception occured')"
   ]
  },
  {
   "cell_type": "code",
   "execution_count": 3,
   "id": "1b943ae7",
   "metadata": {},
   "outputs": [
    {
     "name": "stdout",
     "output_type": "stream",
     "text": [
      "Variable x is not defined\n"
     ]
    }
   ],
   "source": [
    "# many exceptions\n",
    "try:\n",
    "    print(x)\n",
    "except NameError:\n",
    "    print(\"Variable x is not defined\")\n",
    "except:\n",
    "    print(\"Something else went wrong\")"
   ]
  },
  {
   "cell_type": "code",
   "execution_count": 6,
   "id": "120f331c",
   "metadata": {},
   "outputs": [
    {
     "name": "stdout",
     "output_type": "stream",
     "text": [
      "Hello\n",
      "Nothing went wrong\n"
     ]
    }
   ],
   "source": [
    "# else \n",
    "try:\n",
    "    print(\"Hello\")\n",
    "except:\n",
    "    print(\"Something went wrong\")\n",
    "else:\n",
    "    print(\"Nothing went wrong\")\n",
    "        "
   ]
  },
  {
   "cell_type": "code",
   "execution_count": 7,
   "id": "cb29cbe8",
   "metadata": {},
   "outputs": [
    {
     "name": "stdout",
     "output_type": "stream",
     "text": [
      "Something went wrong\n",
      "The 'try except' is finished\n"
     ]
    }
   ],
   "source": [
    "# Finally\n",
    "try:\n",
    "    print(x)\n",
    "except:\n",
    "    print(\"Something went wrong\")\n",
    "finally:\n",
    "    print(\"The 'try except' is finished\")"
   ]
  },
  {
   "cell_type": "code",
   "execution_count": 8,
   "id": "27464ea3",
   "metadata": {},
   "outputs": [
    {
     "ename": "Exception",
     "evalue": "Sorry, no numbers below zero",
     "output_type": "error",
     "traceback": [
      "\u001b[1;31m---------------------------------------------------------------------------\u001b[0m",
      "\u001b[1;31mException\u001b[0m                                 Traceback (most recent call last)",
      "\u001b[1;32m<ipython-input-8-8b7c4d9c3328>\u001b[0m in \u001b[0;36m<module>\u001b[1;34m\u001b[0m\n\u001b[0;32m      3\u001b[0m \u001b[1;33m\u001b[0m\u001b[0m\n\u001b[0;32m      4\u001b[0m \u001b[1;32mif\u001b[0m \u001b[0mx\u001b[0m \u001b[1;33m<\u001b[0m \u001b[1;36m0\u001b[0m\u001b[1;33m:\u001b[0m\u001b[1;33m\u001b[0m\u001b[1;33m\u001b[0m\u001b[0m\n\u001b[1;32m----> 5\u001b[1;33m     \u001b[1;32mraise\u001b[0m \u001b[0mException\u001b[0m\u001b[1;33m(\u001b[0m\u001b[1;34m\"Sorry, no numbers below zero\"\u001b[0m\u001b[1;33m)\u001b[0m\u001b[1;33m\u001b[0m\u001b[1;33m\u001b[0m\u001b[0m\n\u001b[0m",
      "\u001b[1;31mException\u001b[0m: Sorry, no numbers below zero"
     ]
    }
   ],
   "source": [
    "# raise an exception\n",
    "x = -1\n",
    "\n",
    "if x < 0:\n",
    "    raise Exception(\"Sorry, no numbers below zero\")"
   ]
  },
  {
   "cell_type": "markdown",
   "id": "6f335678",
   "metadata": {},
   "source": [
    "### File Handling :\n",
    "##### Python has several functions for creating, reading, updating, and deleting files.\n",
    "##### 1.The open() function takes two parameters; filename, and mode. used to open the file.\n",
    "##### 2.read() method for reading the content of the file.\n",
    "##### 3.write() - will overwrite any existing content.\n",
    "##### 4. To delete a file, you must import the OS module, and run its os.remove() function"
   ]
  },
  {
   "cell_type": "code",
   "execution_count": null,
   "id": "47693ec5",
   "metadata": {},
   "outputs": [],
   "source": [
    "# open()\n",
    "f = open(\"ajay.txt\")"
   ]
  },
  {
   "cell_type": "code",
   "execution_count": null,
   "id": "7e4219a8",
   "metadata": {},
   "outputs": [],
   "source": [
    "#read()\n",
    "f = open(\"ajay.txt\", \"r\")\n",
    "print(f.read())"
   ]
  },
  {
   "cell_type": "code",
   "execution_count": null,
   "id": "d05474fa",
   "metadata": {},
   "outputs": [],
   "source": [
    "# read only parts of the file\n",
    "f = open(\"ajay.txt\", \"r\")\n",
    "print(f.read(5))"
   ]
  },
  {
   "cell_type": "code",
   "execution_count": null,
   "id": "fd051e9a",
   "metadata": {},
   "outputs": [],
   "source": [
    "#readline()\n",
    "f = open(\"ajay.txt\", \"r\")\n",
    "print(f.readline())"
   ]
  },
  {
   "cell_type": "code",
   "execution_count": null,
   "id": "67b530db",
   "metadata": {},
   "outputs": [],
   "source": [
    "#close file\n",
    "f = open(\"ajay.txt\", \"r\")\n",
    "print(f.readline())\n",
    "f.close()"
   ]
  },
  {
   "cell_type": "code",
   "execution_count": null,
   "id": "da07337d",
   "metadata": {},
   "outputs": [],
   "source": [
    "#Write to an Existing File\n",
    "f = open(\"ajay.txt\", \"a\")\n",
    "f.write(\"Now the file has more content!\")\n",
    "f.close()\n",
    "\n",
    "#open and read the file after the appending:\n",
    "f = open(\"ajay.txt\", \"r\")\n",
    "print(f.read())"
   ]
  },
  {
   "cell_type": "code",
   "execution_count": null,
   "id": "8858a72f",
   "metadata": {},
   "outputs": [],
   "source": [
    "# to create file\n",
    "f = open(\"ajay.txt\", \"x\")"
   ]
  },
  {
   "cell_type": "code",
   "execution_count": null,
   "id": "0e1dfc2a",
   "metadata": {},
   "outputs": [],
   "source": [
    "# delete a file\n",
    "import os\n",
    "os.remove(\"ajay.txt\")"
   ]
  },
  {
   "cell_type": "code",
   "execution_count": null,
   "id": "69bc14b0",
   "metadata": {},
   "outputs": [],
   "source": [
    "#check file is exist\n",
    "import os\n",
    "if os.path.exists(\"ajay.txt\"):\n",
    "    os.remove(\"ajay.txt\")\n",
    "else:\n",
    "    print(\"The file does not exist\")"
   ]
  }
 ],
 "metadata": {
  "kernelspec": {
   "display_name": "Python 3",
   "language": "python",
   "name": "python3"
  },
  "language_info": {
   "codemirror_mode": {
    "name": "ipython",
    "version": 3
   },
   "file_extension": ".py",
   "mimetype": "text/x-python",
   "name": "python",
   "nbconvert_exporter": "python",
   "pygments_lexer": "ipython3",
   "version": "3.8.8"
  }
 },
 "nbformat": 4,
 "nbformat_minor": 5
}
